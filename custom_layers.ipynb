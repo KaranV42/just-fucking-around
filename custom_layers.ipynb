{
 "cells": [
  {
   "cell_type": "code",
   "execution_count": 7,
   "id": "0aecf3a7-9b67-40df-a0ea-8f8ca843e288",
   "metadata": {},
   "outputs": [],
   "source": [
    "import tensorflow as tf\n",
    "from tensorflow.keras import layers"
   ]
  },
  {
   "cell_type": "code",
   "execution_count": 115,
   "id": "8c2707bf-b212-4895-92a0-2c3fd3441937",
   "metadata": {},
   "outputs": [],
   "source": [
    "import matplotlib.pyplot as plt"
   ]
  },
  {
   "cell_type": "code",
   "execution_count": 9,
   "id": "3aa9e9fd-c629-4039-a4a4-a0c138042098",
   "metadata": {},
   "outputs": [],
   "source": [
    "mnist = tf.keras.datasets.mnist"
   ]
  },
  {
   "cell_type": "code",
   "execution_count": 247,
   "id": "4b8eca55-8fa7-4643-90ee-3252cdcb02f3",
   "metadata": {},
   "outputs": [],
   "source": [
    "class CnnModel(tf.keras.Model):\n",
    "    def __init__(self, num_classes=10):\n",
    "        super(CnnModel, self).__init__() ##Calls init for tf.keras.models to access its methods. tf.keras.models is a superclass to CNN\n",
    "\n",
    "        self.conv1 = layers.Conv2D(32, kernel_size=(3,3), padding='valid', activation='relu', input_shape=(28,28,1))\n",
    "        self.pool1 = layers.MaxPooling2D(pool_size=(2,2))\n",
    "\n",
    "        self.conv2 = layers.Conv2D(64, kernel_size=(3,3), padding='valid', activation='relu')\n",
    "        self.pool2 = layers.MaxPooling2D(pool_size=(2,2))\n",
    "\n",
    "        self.flatten = layers.Flatten()\n",
    "\n",
    "        self.dense1 = layers.Dense(128, activation='relu')\n",
    "        self.dropout = layers.Dropout(0.5)\n",
    "        self.dense2 = layers.Dense(num_classes, activation='softmax')\n",
    "\n",
    "    def call(self, inputs, training=False):\n",
    "        x = self.conv1(inputs)\n",
    "        x = self.pool1(x)\n",
    "        x = self.conv2(x)\n",
    "        x = self.pool2(x)\n",
    "        x = self.flatten(x)\n",
    "        x = self.dense1(x)\n",
    "\n",
    "        if training:\n",
    "            x = self.dropout(x)\n",
    "\n",
    "        x = self.dense2(x)\n",
    "\n",
    "        return x"
   ]
  },
  {
   "cell_type": "code",
   "execution_count": null,
   "id": "e0d27e3b-0b64-4663-ae2f-fa425cc24cd2",
   "metadata": {},
   "outputs": [],
   "source": []
  },
  {
   "cell_type": "code",
   "execution_count": null,
   "id": "41bf58b6-b33a-40ee-a553-04969791c0a0",
   "metadata": {},
   "outputs": [],
   "source": []
  },
  {
   "cell_type": "code",
   "execution_count": 119,
   "id": "c0c3e182-6ad3-43fb-922d-b9a8d1bef48f",
   "metadata": {},
   "outputs": [],
   "source": [
    "(x_train, y_train), (x_test, y_test) = mnist.load_data()"
   ]
  },
  {
   "cell_type": "code",
   "execution_count": 143,
   "id": "fe9c0f1a-e8ed-49e2-b0f4-b76a0a6efa17",
   "metadata": {},
   "outputs": [
    {
     "data": {
      "image/png": "[encoded data removed]",
      "text/plain": [
       "<Figure size 640x480 with 1 Axes>"
      ]
     },
     "metadata": {},
     "output_type": "display_data"
    }
   ],
   "source": [
    "plt.imshow(x_train[69])\n",
    "plt.show()"
   ]
  },
  {
   "cell_type": "code",
   "execution_count": 123,
   "id": "bc235632-7fc1-456c-bc36-2d2163b42209",
   "metadata": {},
   "outputs": [],
   "source": [
    "x_train = x_train.astype('float32')/255.0\n",
    "x_test = x_test.astype('float32')/255.0"
   ]
  },
  {
   "cell_type": "code",
   "execution_count": 135,
   "id": "4fa2c8dc-f6b2-490c-ac5f-6a2380d904ea",
   "metadata": {},
   "outputs": [
    {
     "data": {
      "image/png": "[encoded data removed]",
      "text/plain": [
       "<Figure size 640x480 with 1 Axes>"
      ]
     },
     "metadata": {},
     "output_type": "display_data"
    }
   ],
   "source": [
    "plt.imshow(x_train[69])\n",
    "plt.show()"
   ]
  },
  {
   "cell_type": "code",
   "execution_count": 127,
   "id": "f778658e-5848-43e5-a8c3-76854ea01d1b",
   "metadata": {},
   "outputs": [
    {
     "data": {
      "text/plain": [
       "(60000, 28, 28)"
      ]
     },
     "execution_count": 127,
     "metadata": {},
     "output_type": "execute_result"
    }
   ],
   "source": [
    "x_train.shape"
   ]
  },
  {
   "cell_type": "code",
   "execution_count": 129,
   "id": "574bcc41-b56f-4f5f-b04b-6c753230e7b1",
   "metadata": {},
   "outputs": [],
   "source": [
    "#slicing operation (...) to add a newaxis\n",
    "# x_train = x_train[tf.newaxis, ...] makes the dimensions (1, 60000, 28, 28)\n",
    "x_train = x_train[..., tf.newaxis]\n",
    "x_test = x_test[..., tf.newaxis]"
   ]
  },
  {
   "cell_type": "code",
   "execution_count": 131,
   "id": "a3bf2620-a34a-47e1-b59f-0c4276d9b640",
   "metadata": {},
   "outputs": [
    {
     "data": {
      "text/plain": [
       "(60000, 28, 28, 1)"
      ]
     },
     "execution_count": 131,
     "metadata": {},
     "output_type": "execute_result"
    }
   ],
   "source": [
    "x_train.shape"
   ]
  },
  {
   "cell_type": "code",
   "execution_count": 105,
   "id": "436293b2-225f-423e-90ed-289275335b63",
   "metadata": {},
   "outputs": [
    {
     "data": {
      "text/plain": [
       "5"
      ]
     },
     "execution_count": 105,
     "metadata": {},
     "output_type": "execute_result"
    }
   ],
   "source": [
    "y_train[0]"
   ]
  },
  {
   "cell_type": "code",
   "execution_count": 107,
   "id": "39b50abc-d106-49c6-858e-c80e0260d319",
   "metadata": {},
   "outputs": [],
   "source": [
    "#One-way Encoding\n",
    "y_train = tf.keras.utils.to_categorical(y_train, 10)\n",
    "y_test = tf.keras.utils.to_categorical(y_test, 10)"
   ]
  },
  {
   "cell_type": "code",
   "execution_count": 109,
   "id": "775153c5-9d51-4972-bc19-9c75e6872b20",
   "metadata": {},
   "outputs": [
    {
     "data": {
      "text/plain": [
       "array([0., 0., 0., 0., 0., 1., 0., 0., 0., 0.])"
      ]
     },
     "execution_count": 109,
     "metadata": {},
     "output_type": "execute_result"
    }
   ],
   "source": [
    "y_train[0]"
   ]
  },
  {
   "cell_type": "code",
   "execution_count": null,
   "id": "d0b2e5a6-12f2-4e17-b5b4-b67ea436aa84",
   "metadata": {},
   "outputs": [],
   "source": []
  },
  {
   "cell_type": "code",
   "execution_count": null,
   "id": "cf1f1282-4dc6-440b-b0b4-984930907f33",
   "metadata": {},
   "outputs": [],
   "source": []
  },
  {
   "cell_type": "code",
   "execution_count": 111,
   "id": "c18594f0-d5eb-4558-a71a-614b3ed64581",
   "metadata": {},
   "outputs": [],
   "source": [
    "model = CnnModel(num_classes=10)\n",
    "\n",
    "model.compile(\n",
    "    optimizer=tf.keras.optimizers.Adam(),\n",
    "    loss=tf.keras.losses.CategoricalCrossentropy(),\n",
    "    metrics=['accuracy']\n",
    ")"
   ]
  },
  {
   "cell_type": "code",
   "execution_count": 113,
   "id": "51ba8cd1-891f-4e75-9f51-6c9b06f2c0ac",
   "metadata": {},
   "outputs": [
    {
     "name": "stdout",
     "output_type": "stream",
     "text": [
      "Epoch 1/10\n",
      "\u001b[1m375/375\u001b[0m \u001b[32m━━━━━━━━━━━━━━━━━━━━\u001b[0m\u001b[37m\u001b[0m \u001b[1m25s\u001b[0m 50ms/step - accuracy: 0.7813 - loss: 0.7017 - val_accuracy: 0.9746 - val_loss: 0.0819\n",
      "Epoch 2/10\n",
      "\u001b[1m375/375\u001b[0m \u001b[32m━━━━━━━━━━━━━━━━━━━━\u001b[0m\u001b[37m\u001b[0m \u001b[1m17s\u001b[0m 45ms/step - accuracy: 0.9634 - loss: 0.1222 - val_accuracy: 0.9820 - val_loss: 0.0578\n",
      "Epoch 3/10\n",
      "\u001b[1m375/375\u001b[0m \u001b[32m━━━━━━━━━━━━━━━━━━━━\u001b[0m\u001b[37m\u001b[0m \u001b[1m17s\u001b[0m 45ms/step - accuracy: 0.9737 - loss: 0.0872 - val_accuracy: 0.9858 - val_loss: 0.0462\n",
      "Epoch 4/10\n",
      "\u001b[1m375/375\u001b[0m \u001b[32m━━━━━━━━━━━━━━━━━━━━\u001b[0m\u001b[37m\u001b[0m \u001b[1m17s\u001b[0m 46ms/step - accuracy: 0.9807 - loss: 0.0674 - val_accuracy: 0.9876 - val_loss: 0.0406\n",
      "Epoch 5/10\n",
      "\u001b[1m375/375\u001b[0m \u001b[32m━━━━━━━━━━━━━━━━━━━━\u001b[0m\u001b[37m\u001b[0m \u001b[1m23s\u001b[0m 63ms/step - accuracy: 0.9831 - loss: 0.0569 - val_accuracy: 0.9876 - val_loss: 0.0405\n",
      "Epoch 6/10\n",
      "\u001b[1m375/375\u001b[0m \u001b[32m━━━━━━━━━━━━━━━━━━━━\u001b[0m\u001b[37m\u001b[0m \u001b[1m17s\u001b[0m 46ms/step - accuracy: 0.9857 - loss: 0.0473 - val_accuracy: 0.9884 - val_loss: 0.0401\n",
      "Epoch 7/10\n",
      "\u001b[1m375/375\u001b[0m \u001b[32m━━━━━━━━━━━━━━━━━━━━\u001b[0m\u001b[37m\u001b[0m \u001b[1m17s\u001b[0m 46ms/step - accuracy: 0.9866 - loss: 0.0422 - val_accuracy: 0.9901 - val_loss: 0.0363\n",
      "Epoch 8/10\n",
      "\u001b[1m375/375\u001b[0m \u001b[32m━━━━━━━━━━━━━━━━━━━━\u001b[0m\u001b[37m\u001b[0m \u001b[1m17s\u001b[0m 45ms/step - accuracy: 0.9891 - loss: 0.0358 - val_accuracy: 0.9888 - val_loss: 0.0364\n",
      "Epoch 9/10\n",
      "\u001b[1m375/375\u001b[0m \u001b[32m━━━━━━━━━━━━━━━━━━━━\u001b[0m\u001b[37m\u001b[0m \u001b[1m21s\u001b[0m 56ms/step - accuracy: 0.9891 - loss: 0.0331 - val_accuracy: 0.9903 - val_loss: 0.0378\n",
      "Epoch 10/10\n",
      "\u001b[1m375/375\u001b[0m \u001b[32m━━━━━━━━━━━━━━━━━━━━\u001b[0m\u001b[37m\u001b[0m \u001b[1m19s\u001b[0m 49ms/step - accuracy: 0.9898 - loss: 0.0306 - val_accuracy: 0.9915 - val_loss: 0.0345\n"
     ]
    }
   ],
   "source": [
    "history = model.fit(\n",
    "    x_train, y_train, \n",
    "    epochs=10,\n",
    "    batch_size=128,\n",
    "    validation_split=0.2\n",
    ")"
   ]
  },
  {
   "cell_type": "code",
   "execution_count": null,
   "id": "89a45b91-655f-4b29-b9d6-d908e6f42379",
   "metadata": {},
   "outputs": [],
   "source": []
  },
  {
   "cell_type": "code",
   "execution_count": null,
   "id": "5897914c-4be5-40b4-9f0a-06eb03d3439c",
   "metadata": {},
   "outputs": [],
   "source": []
  },
  {
   "cell_type": "code",
   "execution_count": 117,
   "id": "a594e380-ecaa-4f9a-b902-2da2c1bc7d2f",
   "metadata": {},
   "outputs": [
    {
     "data": {
      "image/png": "[encoded data removed]",
      "text/plain": [
       "<Figure size 640x480 with 1 Axes>"
      ]
     },
     "metadata": {},
     "output_type": "display_data"
    },
    {
     "data": {
      "image/png": "[encoded data removed]",
      "text/plain": [
       "<Figure size 640x480 with 1 Axes>"
      ]
     },
     "metadata": {},
     "output_type": "display_data"
    }
   ],
   "source": [
    "plt.plot(history.history['accuracy'], label='train_accuracy')\n",
    "plt.plot(history.history['val_accuracy'], label='val_accuracy')\n",
    "plt.title('Model Accuracy')\n",
    "plt.xlabel('Epochs')\n",
    "plt.ylabel('Accuracy')\n",
    "plt.legend()\n",
    "plt.show()\n",
    "\n",
    "# Plot training & validation loss\n",
    "plt.plot(history.history['loss'], label='train_loss')\n",
    "plt.plot(history.history['val_loss'], label='val_loss')\n",
    "plt.title('Model Loss')\n",
    "plt.xlabel('Epochs')\n",
    "plt.ylabel('Loss')\n",
    "plt.legend()\n",
    "plt.show()"
   ]
  },
  {
   "cell_type": "code",
   "execution_count": null,
   "id": "e0bdeb04-18e6-4c4e-9bbe-711f46e7080c",
   "metadata": {},
   "outputs": [],
   "source": []
  },
  {
   "cell_type": "code",
   "execution_count": null,
   "id": "1275637b-cd26-4ab3-89fa-87e526b14003",
   "metadata": {},
   "outputs": [],
   "source": []
  },
  {
   "cell_type": "code",
   "execution_count": 267,
   "id": "57a15c33-9dbe-4480-bd48-b7b7f9bbe234",
   "metadata": {},
   "outputs": [],
   "source": [
    "##just copy and pasted the cnnmodel..to play around with layers, kernel size, dropout...\n",
    "\n",
    "class FashionCnnModel(tf.keras.Model):\n",
    "    def __init__(self, num_classes=10):\n",
    "        super(FashionCnnModel, self).__init__() ##Calls init for tf.keras.models to access its methods. tf.keras.models is a superclass to CNN\n",
    "\n",
    "        self.conv1 = layers.Conv2D(64, kernel_size=(3,3), padding='valid', activation='relu', input_shape=(28,28,1))\n",
    "        self.pool1 = layers.MaxPooling2D(pool_size=(2,2))\n",
    "\n",
    "        self.conv2 = layers.Conv2D(128, kernel_size=(3,3), padding='valid', activation='relu')\n",
    "        self.pool2 = layers.MaxPooling2D(pool_size=(2,2))\n",
    "\n",
    "        self.flatten = layers.Flatten()\n",
    "\n",
    "        self.dense1 = layers.Dense(256, activation='relu')\n",
    "        self.dropout = layers.Dropout(0.5)\n",
    "        self.dense2 = layers.Dense(num_classes, activation='softmax')\n",
    "\n",
    "    def call(self, inputs, training=False):\n",
    "        x = self.conv1(inputs)\n",
    "        x = self.pool1(x)\n",
    "        x = self.conv2(x)\n",
    "        x = self.pool2(x)\n",
    "        x = self.flatten(x)\n",
    "        x = self.dense1(x)\n",
    "\n",
    "        if training:\n",
    "            x = self.dropout(x)\n",
    "\n",
    "        x = self.dense2(x)\n",
    "\n",
    "        return x"
   ]
  },
  {
   "cell_type": "code",
   "execution_count": 205,
   "id": "bc83fa27-30ed-4efa-a928-9545b31c3a2e",
   "metadata": {},
   "outputs": [],
   "source": [
    "fashion_mnist = tf.keras.datasets.fashion_mnist"
   ]
  },
  {
   "cell_type": "code",
   "execution_count": 207,
   "id": "0df51c53-9d6a-4426-ab5b-add72b2f131e",
   "metadata": {},
   "outputs": [],
   "source": [
    "(x_train, y_train), (x_test, y_test) = fashion_mnist.load_data()"
   ]
  },
  {
   "cell_type": "code",
   "execution_count": 209,
   "id": "994ee11b-f070-49af-8b7d-b9e3d293dc60",
   "metadata": {
    "scrolled": true
   },
   "outputs": [
    {
     "data": {
      "text/plain": [
       "(28, 28)"
      ]
     },
     "execution_count": 209,
     "metadata": {},
     "output_type": "execute_result"
    }
   ],
   "source": [
    "x_train.shape[1:]"
   ]
  },
  {
   "cell_type": "code",
   "execution_count": 211,
   "id": "9eafe413-4bec-405d-a12f-37e3b218f781",
   "metadata": {},
   "outputs": [],
   "source": [
    "x_train = x_train[..., tf.newaxis]\n",
    "x_test = x_test[..., tf.newaxis]"
   ]
  },
  {
   "cell_type": "code",
   "execution_count": 213,
   "id": "aa772a55-b868-4ab5-89e4-e52528303501",
   "metadata": {},
   "outputs": [
    {
     "data": {
      "text/plain": [
       "<matplotlib.image.AxesImage at 0x1cb0df711c0>"
      ]
     },
     "execution_count": 213,
     "metadata": {},
     "output_type": "execute_result"
    },
    {
     "data": {
      "image/png": "[encoded data removed]",
      "text/plain": [
       "<Figure size 640x480 with 1 Axes>"
      ]
     },
     "metadata": {},
     "output_type": "display_data"
    }
   ],
   "source": [
    "plt.imshow(x_train[0])"
   ]
  },
  {
   "cell_type": "code",
   "execution_count": 215,
   "id": "1f9bcfdb-8755-4b13-8c76-136decd39443",
   "metadata": {},
   "outputs": [
    {
     "data": {
      "text/plain": [
       "9"
      ]
     },
     "execution_count": 215,
     "metadata": {},
     "output_type": "execute_result"
    }
   ],
   "source": [
    "y_train[0]"
   ]
  },
  {
   "cell_type": "code",
   "execution_count": 217,
   "id": "edfe7284-ffb0-4697-839b-6c9d829a54f6",
   "metadata": {},
   "outputs": [],
   "source": [
    "x_train = x_train.astype('float32')/255.0\n",
    "x_test = x_test.astype('float32')/255.0"
   ]
  },
  {
   "cell_type": "code",
   "execution_count": 219,
   "id": "56a307da-532a-45e2-8eb9-d29f2ef42ddb",
   "metadata": {},
   "outputs": [],
   "source": [
    "y_train = tf.keras.utils.to_categorical(y_train)\n",
    "y_test = tf.keras.utils.to_categorical(y_test)"
   ]
  },
  {
   "cell_type": "code",
   "execution_count": 237,
   "id": "33d5589c-5454-442f-bee3-5bd80f28b14c",
   "metadata": {},
   "outputs": [],
   "source": [
    "y_train = y_train.astype('float32')\n",
    "y_test = y_test.astype('float32')"
   ]
  },
  {
   "cell_type": "code",
   "execution_count": 277,
   "id": "4cd408f8-d630-4de6-95ec-ba40177c5a73",
   "metadata": {},
   "outputs": [],
   "source": [
    "fashion_model = FashionCnnModel(num_classes=10)"
   ]
  },
  {
   "cell_type": "code",
   "execution_count": 279,
   "id": "3c82bdde-4fb4-4393-8c95-1ce28c9c1fb1",
   "metadata": {},
   "outputs": [],
   "source": [
    "fashion_model.compile(\n",
    "    optimizer=tf.keras.optimizers.Adam(),\n",
    "    loss=tf.keras.losses.CategoricalCrossentropy(),\n",
    "    metrics=['accuracy']\n",
    ")"
   ]
  },
  {
   "cell_type": "code",
   "execution_count": 281,
   "id": "713b611d-c3c5-4d16-9ed6-f54ed879c87d",
   "metadata": {},
   "outputs": [
    {
     "name": "stdout",
     "output_type": "stream",
     "text": [
      "Epoch 1/10\n",
      "\u001b[1m1500/1500\u001b[0m \u001b[32m━━━━━━━━━━━━━━━━━━━━\u001b[0m\u001b[37m\u001b[0m \u001b[1m74s\u001b[0m 45ms/step - accuracy: 0.7426 - loss: 0.7149 - val_accuracy: 0.8760 - val_loss: 0.3377\n",
      "Epoch 2/10\n",
      "\u001b[1m1500/1500\u001b[0m \u001b[32m━━━━━━━━━━━━━━━━━━━━\u001b[0m\u001b[37m\u001b[0m \u001b[1m66s\u001b[0m 44ms/step - accuracy: 0.8709 - loss: 0.3536 - val_accuracy: 0.8942 - val_loss: 0.2855\n",
      "Epoch 3/10\n",
      "\u001b[1m1500/1500\u001b[0m \u001b[32m━━━━━━━━━━━━━━━━━━━━\u001b[0m\u001b[37m\u001b[0m \u001b[1m67s\u001b[0m 45ms/step - accuracy: 0.8927 - loss: 0.2970 - val_accuracy: 0.8942 - val_loss: 0.2863\n",
      "Epoch 4/10\n",
      "\u001b[1m1500/1500\u001b[0m \u001b[32m━━━━━━━━━━━━━━━━━━━━\u001b[0m\u001b[37m\u001b[0m \u001b[1m65s\u001b[0m 43ms/step - accuracy: 0.9026 - loss: 0.2619 - val_accuracy: 0.9107 - val_loss: 0.2411\n",
      "Epoch 5/10\n",
      "\u001b[1m1500/1500\u001b[0m \u001b[32m━━━━━━━━━━━━━━━━━━━━\u001b[0m\u001b[37m\u001b[0m \u001b[1m65s\u001b[0m 43ms/step - accuracy: 0.9148 - loss: 0.2309 - val_accuracy: 0.9122 - val_loss: 0.2392\n",
      "Epoch 6/10\n",
      "\u001b[1m1500/1500\u001b[0m \u001b[32m━━━━━━━━━━━━━━━━━━━━\u001b[0m\u001b[37m\u001b[0m \u001b[1m66s\u001b[0m 44ms/step - accuracy: 0.9208 - loss: 0.2149 - val_accuracy: 0.9133 - val_loss: 0.2451\n",
      "Epoch 7/10\n",
      "\u001b[1m1500/1500\u001b[0m \u001b[32m━━━━━━━━━━━━━━━━━━━━\u001b[0m\u001b[37m\u001b[0m \u001b[1m65s\u001b[0m 43ms/step - accuracy: 0.9272 - loss: 0.1944 - val_accuracy: 0.9160 - val_loss: 0.2418\n",
      "Epoch 8/10\n",
      "\u001b[1m1500/1500\u001b[0m \u001b[32m━━━━━━━━━━━━━━━━━━━━\u001b[0m\u001b[37m\u001b[0m \u001b[1m66s\u001b[0m 44ms/step - accuracy: 0.9326 - loss: 0.1808 - val_accuracy: 0.9152 - val_loss: 0.2413\n",
      "Epoch 9/10\n",
      "\u001b[1m1500/1500\u001b[0m \u001b[32m━━━━━━━━━━━━━━━━━━━━\u001b[0m\u001b[37m\u001b[0m \u001b[1m66s\u001b[0m 44ms/step - accuracy: 0.9392 - loss: 0.1631 - val_accuracy: 0.9187 - val_loss: 0.2585\n",
      "Epoch 10/10\n",
      "\u001b[1m1500/1500\u001b[0m \u001b[32m━━━━━━━━━━━━━━━━━━━━\u001b[0m\u001b[37m\u001b[0m \u001b[1m66s\u001b[0m 44ms/step - accuracy: 0.9443 - loss: 0.1478 - val_accuracy: 0.9139 - val_loss: 0.2468\n"
     ]
    }
   ],
   "source": [
    "fashion_history = fashion_model.fit(\n",
    "    x_train, y_train,\n",
    "    batch_size = 32,\n",
    "    epochs = 10,\n",
    "    validation_split=0.2\n",
    ")"
   ]
  },
  {
   "cell_type": "code",
   "execution_count": 264,
   "id": "99c52f53-f38c-4baf-8825-da5debab20c9",
   "metadata": {},
   "outputs": [
    {
     "data": {
      "text/plain": [
       "(60000, 28, 28, 1)"
      ]
     },
     "execution_count": 264,
     "metadata": {},
     "output_type": "execute_result"
    }
   ],
   "source": [
    "x_train.shape"
   ]
  },
  {
   "cell_type": "code",
   "execution_count": 233,
   "id": "2744141a-2d55-44be-9d3d-abfdbb02494e",
   "metadata": {},
   "outputs": [
    {
     "data": {
      "text/plain": [
       "(60000, 10)"
      ]
     },
     "execution_count": 233,
     "metadata": {},
     "output_type": "execute_result"
    }
   ],
   "source": [
    "y_train.shape"
   ]
  },
  {
   "cell_type": "code",
   "execution_count": 235,
   "id": "a40760b0-ef91-4248-a444-f4756179772b",
   "metadata": {},
   "outputs": [
    {
     "data": {
      "text/plain": [
       "dtype('float64')"
      ]
     },
     "execution_count": 235,
     "metadata": {},
     "output_type": "execute_result"
    }
   ],
   "source": [
    "y_train.dtype"
   ]
  },
  {
   "cell_type": "code",
   "execution_count": 283,
   "id": "c613ecac-70b3-4c23-accd-80d90fb42b4c",
   "metadata": {},
   "outputs": [],
   "source": [
    "# 1 epoch\n",
    "# 32, 64, 128 = 71.8\n",
    "# 64, 128, 128 = 71.8\n",
    "# 64, 128, 256 = 74.45"
   ]
  },
  {
   "cell_type": "code",
   "execution_count": 287,
   "id": "e4c81de4-5965-4f4f-aef1-6077f789bb42",
   "metadata": {},
   "outputs": [],
   "source": [
    "import keras_tuner as kt"
   ]
  },
  {
   "cell_type": "code",
   "execution_count": 301,
   "id": "57be2d3a-b122-418a-89f2-846a58fd3e52",
   "metadata": {},
   "outputs": [],
   "source": [
    "def build_model(hp):\n",
    "    fashion_model = FashionCnnModel(num_classes=10)\n",
    "\n",
    "    learning_rate = hp.Choice('learning_rate', [1e-2, 1e-3, 1e-4])\n",
    "\n",
    "    fashion_model.compile(\n",
    "    optimizer=tf.keras.optimizers.Adam(),\n",
    "    loss=tf.keras.losses.CategoricalCrossentropy(),\n",
    "    metrics=['accuracy']\n",
    "    )\n",
    "\n",
    "    return fashion_model\n",
    "    "
   ]
  },
  {
   "cell_type": "code",
   "execution_count": 303,
   "id": "8025f7cc-724f-4134-b229-ef680f8ac201",
   "metadata": {},
   "outputs": [],
   "source": [
    "tuner = kt.RandomSearch(\n",
    "    build_model,\n",
    "    objective='val_accuracy',\n",
    "    overwrite=True,\n",
    "    max_trials=5,\n",
    "    executions_per_trial=2,\n",
    "    directory='mnist_tuning',\n",
    "    project_name='cnn_mnist'\n",
    ")"
   ]
  },
  {
   "cell_type": "code",
   "execution_count": 305,
   "id": "fd540ff3-f1e9-4e19-8765-c0404a9c7b79",
   "metadata": {},
   "outputs": [
    {
     "name": "stdout",
     "output_type": "stream",
     "text": [
      "Search space summary\n",
      "Default search space size: 1\n",
      "learning_rate (Choice)\n",
      "{'default': 0.01, 'conditions': [], 'values': [0.01, 0.001, 0.0001], 'ordered': True}\n"
     ]
    }
   ],
   "source": [
    "tuner.search_space_summary()"
   ]
  },
  {
   "cell_type": "code",
   "execution_count": 307,
   "id": "934a9b57-ccee-4759-a7da-6eb54daec402",
   "metadata": {},
   "outputs": [
    {
     "name": "stdout",
     "output_type": "stream",
     "text": [
      "Trial 3 Complete [00h 07m 00s]\n",
      "val_accuracy: 0.8964166641235352\n",
      "\n",
      "Best val_accuracy So Far: 0.9007916748523712\n",
      "Total elapsed time: 00h 21m 02s\n"
     ]
    }
   ],
   "source": [
    "# from tensorflow.keras.callbacks import EarlyStopping\n",
    "\n",
    "# early_stopping = EarlyStopping(monitor='val_loss', patience=5, restore_best_weights=True)\n",
    "\n",
    "tuner.search(\n",
    "    x_train, y_train,\n",
    "    epochs=3,\n",
    "    validation_split=0.2\n",
    ")"
   ]
  },
  {
   "cell_type": "code",
   "execution_count": 313,
   "id": "ea2ac605-cf8f-4fbf-b059-a1d217fde225",
   "metadata": {},
   "outputs": [
    {
     "name": "stdout",
     "output_type": "stream",
     "text": [
      "Search space summary\n",
      "Default search space size: 1\n",
      "learning_rate (Choice)\n",
      "{'default': 0.01, 'conditions': [], 'values': [0.01, 0.001, 0.0001], 'ordered': True}\n"
     ]
    }
   ],
   "source": [
    "tuner.search_space_summary()"
   ]
  },
  {
   "cell_type": "code",
   "execution_count": null,
   "id": "8f2a50b6-2ed8-4966-b367-2e813b525cd4",
   "metadata": {},
   "outputs": [],
   "source": []
  }
 ],
 "metadata": {
  "kernelspec": {
   "display_name": "Python 3 (ipykernel)",
   "language": "python",
   "name": "python3"
  },
  "language_info": {
   "codemirror_mode": {
    "name": "ipython",
    "version": 3
   },
   "file_extension": ".py",
   "mimetype": "text/x-python",
   "name": "python",
   "nbconvert_exporter": "python",
   "pygments_lexer": "ipython3",
   "version": "3.12.4"
  }
 },
 "nbformat": 4,
 "nbformat_minor": 5
}
